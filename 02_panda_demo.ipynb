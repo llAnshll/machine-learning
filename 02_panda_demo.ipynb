{
 "cells": [
  {
   "cell_type": "code",
   "execution_count": 1,
   "id": "d8110b3b",
   "metadata": {},
   "outputs": [],
   "source": [
    "import pandas as pd"
   ]
  },
  {
   "cell_type": "code",
   "execution_count": 2,
   "id": "ca6bec2c",
   "metadata": {},
   "outputs": [
    {
     "name": "stdout",
     "output_type": "stream",
     "text": [
      "  student  admission\n",
      "0     abc       2023\n",
      "1     def       2022\n",
      "2     frt       2021\n"
     ]
    }
   ],
   "source": [
    "dataset={'student':['abc','def','frt'],'admission':[2023,2022,2021]}\n",
    "demo=pd.DataFrame(dataset)\n",
    "print(demo)"
   ]
  },
  {
   "cell_type": "code",
   "execution_count": 4,
   "id": "8c08e02c",
   "metadata": {},
   "outputs": [
    {
     "name": "stdout",
     "output_type": "stream",
     "text": [
      "1.4.2\n"
     ]
    }
   ],
   "source": [
    "print(pd.__version__)"
   ]
  },
  {
   "cell_type": "code",
   "execution_count": 5,
   "id": "c4d68bcc",
   "metadata": {},
   "outputs": [
    {
     "name": "stdout",
     "output_type": "stream",
     "text": [
      "0    20\n",
      "1    30\n",
      "2    40\n",
      "3    50\n",
      "dtype: int64\n"
     ]
    }
   ],
   "source": [
    "a=[20,30,40,50]\n",
    "demo1=pd.Series(a)\n",
    "print(demo1)"
   ]
  },
  {
   "cell_type": "code",
   "execution_count": 6,
   "id": "8c0a4a04",
   "metadata": {},
   "outputs": [
    {
     "name": "stdout",
     "output_type": "stream",
     "text": [
      "m1    20\n",
      "m2    30\n",
      "m3    40\n",
      "m4    50\n",
      "dtype: int64\n",
      "40\n",
      "20\n"
     ]
    }
   ],
   "source": [
    "demo2=pd.Series(a,index=[\"m1\",\"m2\",\"m3\",\"m4\"])\n",
    "print(demo2)\n",
    "print(demo2[2])\n",
    "print(demo2[\"m1\"])"
   ]
  },
  {
   "cell_type": "code",
   "execution_count": 7,
   "id": "63aa431f",
   "metadata": {},
   "outputs": [
    {
     "name": "stdout",
     "output_type": "stream",
     "text": [
      "abc    440\n",
      "def    220\n",
      "ssd    300\n",
      "dtype: int64\n",
      "300\n"
     ]
    }
   ],
   "source": [
    "marks={\"abc\":440,\"def\":220,\"ssd\":300}\n",
    "demo2=pd.Series(marks)\n",
    "print(demo2)\n",
    "print(demo2[\"ssd\"])\n"
   ]
  },
  {
   "cell_type": "code",
   "execution_count": 8,
   "id": "72583332",
   "metadata": {},
   "outputs": [
    {
     "name": "stdout",
     "output_type": "stream",
     "text": [
      "abc    440\n",
      "ssd    300\n",
      "dtype: int64\n"
     ]
    }
   ],
   "source": [
    "demo3=pd.Series(marks,index=[\"abc\",\"ssd\"])\n",
    "print(demo3)\n"
   ]
  },
  {
   "cell_type": "code",
   "execution_count": 9,
   "id": "15a838f3",
   "metadata": {},
   "outputs": [
    {
     "name": "stdout",
     "output_type": "stream",
     "text": [
      "     product  price\n",
      "0  chocolate    500\n",
      "1       puff    600\n",
      "2     waffer    700\n"
     ]
    }
   ],
   "source": [
    "data={\"product\":[\"chocolate\",\"puff\",\"waffer\"],\n",
    "     \"price\":[500,600,700]}\n",
    "dataFr=pd.DataFrame(data)\n",
    "print(dataFr)\n"
   ]
  },
  {
   "cell_type": "code",
   "execution_count": 10,
   "id": "09412f41",
   "metadata": {},
   "outputs": [
    {
     "name": "stdout",
     "output_type": "stream",
     "text": [
      "product    waffer\n",
      "price         700\n",
      "Name: 2, dtype: object\n"
     ]
    }
   ],
   "source": [
    "print(dataFr.loc[2])"
   ]
  },
  {
   "cell_type": "code",
   "execution_count": 17,
   "id": "967ad281",
   "metadata": {},
   "outputs": [
    {
     "name": "stdout",
     "output_type": "stream",
     "text": [
      "    Rollno     name  totalmark  obtainmark\n",
      "0        1      Avi        100        50.0\n",
      "1        2    Harsh        100        55.0\n",
      "2        3    Kevin        100        45.0\n",
      "3        4    Keyur        100        55.0\n",
      "..     ...      ...        ...         ...\n",
      "5        6  Shubham        100        85.0\n",
      "6        7  Avinash        100        55.0\n",
      "7        8    Anshi        100         NaN\n",
      "8        9    Paras        100        25.0\n",
      "\n",
      "[9 rows x 4 columns]\n"
     ]
    }
   ],
   "source": [
    "stmark=pd.read_csv('demo.csv')\n",
    "print(stmark)"
   ]
  },
  {
   "cell_type": "code",
   "execution_count": 12,
   "id": "6cdb98b8",
   "metadata": {},
   "outputs": [
    {
     "name": "stdout",
     "output_type": "stream",
     "text": [
      "60\n"
     ]
    }
   ],
   "source": [
    "print(pd.options.display.max_rows)\n"
   ]
  },
  {
   "cell_type": "code",
   "execution_count": 13,
   "id": "6acf1aa2",
   "metadata": {},
   "outputs": [
    {
     "name": "stdout",
     "output_type": "stream",
     "text": [
      "    Rollno     name  totalmark  obtainmark\n",
      "0        1      Avi        100          50\n",
      "1        2    Harsh        100          55\n",
      "2        3    Kevin        100          45\n",
      "3        4    Keyur        100          55\n",
      "..     ...      ...        ...         ...\n",
      "5        6  Shubham        100          85\n",
      "6        7  Avinash        100          55\n",
      "7        8    Anshi        100          65\n",
      "8        9    Paras        100          25\n",
      "\n",
      "[9 rows x 4 columns]\n"
     ]
    }
   ],
   "source": [
    "pd.options.display.max_rows=8\n",
    "stud_mark=pd.read_csv('demo.csv')\n",
    "print(stud_mark)\n"
   ]
  },
  {
   "cell_type": "code",
   "execution_count": 14,
   "id": "9ecbe5ab",
   "metadata": {},
   "outputs": [
    {
     "name": "stdout",
     "output_type": "stream",
     "text": [
      "   Rollno   name  totalmark  obtainmark\n",
      "0       1    Avi        100          50\n",
      "1       2  Harsh        100          55\n",
      "2       3  Kevin        100          45\n",
      "3       4  Keyur        100          55\n",
      "4       5   Ansh        100          45\n"
     ]
    }
   ],
   "source": [
    "print(stud_mark.head())"
   ]
  },
  {
   "cell_type": "code",
   "execution_count": 15,
   "id": "2311402d",
   "metadata": {},
   "outputs": [
    {
     "name": "stdout",
     "output_type": "stream",
     "text": [
      "   Rollno     name  totalmark  obtainmark\n",
      "4       5     Ansh        100          45\n",
      "5       6  Shubham        100          85\n",
      "6       7  Avinash        100          55\n",
      "7       8    Anshi        100          65\n",
      "8       9    Paras        100          25\n"
     ]
    }
   ],
   "source": [
    "print(stud_mark.tail())"
   ]
  },
  {
   "cell_type": "code",
   "execution_count": 16,
   "id": "929dd863",
   "metadata": {},
   "outputs": [
    {
     "name": "stdout",
     "output_type": "stream",
     "text": [
      "<class 'pandas.core.frame.DataFrame'>\n",
      "RangeIndex: 9 entries, 0 to 8\n",
      "Data columns (total 4 columns):\n",
      " #   Column      Non-Null Count  Dtype \n",
      "---  ------      --------------  ----- \n",
      " 0   Rollno      9 non-null      int64 \n",
      " 1   name        9 non-null      object\n",
      " 2   totalmark   9 non-null      int64 \n",
      " 3   obtainmark  9 non-null      int64 \n",
      "dtypes: int64(3), object(1)\n",
      "memory usage: 416.0+ bytes\n",
      "None\n"
     ]
    }
   ],
   "source": [
    "print(stud_mark.info())\n"
   ]
  },
  {
   "cell_type": "code",
   "execution_count": 18,
   "id": "282f9cc9",
   "metadata": {},
   "outputs": [
    {
     "name": "stdout",
     "output_type": "stream",
     "text": [
      "    Rollno     name  totalmark  obtainmark\n",
      "0        1      Avi        100          50\n",
      "1        2    Harsh        100          55\n",
      "2        3    Kevin        100          45\n",
      "3        4    Keyur        100          55\n",
      "..     ...      ...        ...         ...\n",
      "5        6  Shubham        100          85\n",
      "6        7  Avinash        100          55\n",
      "7        8    Anshi        100          65\n",
      "8        9    Paras        100          25\n",
      "\n",
      "[9 rows x 4 columns]\n"
     ]
    }
   ],
   "source": [
    "stud=stud_mark.dropna()\n",
    "print(stud)"
   ]
  },
  {
   "cell_type": "code",
   "execution_count": 19,
   "id": "feef459c",
   "metadata": {},
   "outputs": [
    {
     "name": "stdout",
     "output_type": "stream",
     "text": [
      "    Rollno     name  totalmark  obtainmark\n",
      "0        1      Avi        100          50\n",
      "1        2    Harsh        100          55\n",
      "2        3    Kevin        100          45\n",
      "3        4    Keyur        100          55\n",
      "..     ...      ...        ...         ...\n",
      "5        6  Shubham        100          85\n",
      "6        7  Avinash        100          55\n",
      "7        8    Anshi        100          65\n",
      "8        9    Paras        100          25\n",
      "\n",
      "[9 rows x 4 columns]\n"
     ]
    }
   ],
   "source": [
    "fill_stud=stud_mark.fillna(34)\n",
    "print(fill_stud)"
   ]
  },
  {
   "cell_type": "code",
   "execution_count": 23,
   "id": "fdc58c61",
   "metadata": {},
   "outputs": [
    {
     "name": "stdout",
     "output_type": "stream",
     "text": [
      "53.333333333333336\n"
     ]
    }
   ],
   "source": [
    "mean=stud_mark[\"obtainmark\"].mean()\n",
    "print(mean)"
   ]
  },
  {
   "cell_type": "code",
   "execution_count": 24,
   "id": "388d0760",
   "metadata": {},
   "outputs": [
    {
     "name": "stdout",
     "output_type": "stream",
     "text": [
      "0    50\n",
      "1    55\n",
      "2    45\n",
      "3    55\n",
      "     ..\n",
      "5    85\n",
      "6    55\n",
      "7    65\n",
      "8    25\n",
      "Name: obtainmark, Length: 9, dtype: int64\n"
     ]
    }
   ],
   "source": [
    "stud1=stud_mark[\"obtainmark\"].fillna(555)\n",
    "print(stud1)\n"
   ]
  },
  {
   "cell_type": "code",
   "execution_count": 26,
   "id": "d2ea8a7a",
   "metadata": {},
   "outputs": [
    {
     "name": "stdout",
     "output_type": "stream",
     "text": [
      "55.0\n"
     ]
    }
   ],
   "source": [
    "median=stud_mark[\"obtainmark\"].median()\n",
    "print(median)\n"
   ]
  },
  {
   "cell_type": "code",
   "execution_count": 28,
   "id": "82826204",
   "metadata": {},
   "outputs": [
    {
     "name": "stdout",
     "output_type": "stream",
     "text": [
      "0    55\n",
      "Name: obtainmark, dtype: int64\n"
     ]
    }
   ],
   "source": [
    "mode=stud_mark[\"obtainmark\"].mode()\n",
    "print(mode)"
   ]
  },
  {
   "cell_type": "code",
   "execution_count": 30,
   "id": "6d623962",
   "metadata": {},
   "outputs": [
    {
     "data": {
      "text/plain": [
       "Index(['Rollno', 'name', 'totalmark', 'obtainmark'], dtype='object')"
      ]
     },
     "execution_count": 30,
     "metadata": {},
     "output_type": "execute_result"
    }
   ],
   "source": [
    "stud.columns\n"
   ]
  },
  {
   "cell_type": "code",
   "execution_count": 31,
   "id": "b45295df",
   "metadata": {},
   "outputs": [
    {
     "name": "stdout",
     "output_type": "stream",
     "text": [
      "   Rollno   name  totalmark  obtainmark\n",
      "0       1    Avi        100          50\n",
      "1       2  Harsh        100          55\n",
      "2       3  Kevin        100          45\n",
      "3       4  Keyur        100          55\n",
      "4       5   Ansh        100          45\n"
     ]
    }
   ],
   "source": [
    "print(stud.loc[0:4])\n"
   ]
  },
  {
   "cell_type": "code",
   "execution_count": 33,
   "id": "dc512c4c",
   "metadata": {},
   "outputs": [
    {
     "data": {
      "text/html": [
       "<div>\n",
       "<style scoped>\n",
       "    .dataframe tbody tr th:only-of-type {\n",
       "        vertical-align: middle;\n",
       "    }\n",
       "\n",
       "    .dataframe tbody tr th {\n",
       "        vertical-align: top;\n",
       "    }\n",
       "\n",
       "    .dataframe thead th {\n",
       "        text-align: right;\n",
       "    }\n",
       "</style>\n",
       "<table border=\"1\" class=\"dataframe\">\n",
       "  <thead>\n",
       "    <tr style=\"text-align: right;\">\n",
       "      <th></th>\n",
       "      <th>Rollno</th>\n",
       "      <th>name</th>\n",
       "      <th>totalmark</th>\n",
       "      <th>obtainmark</th>\n",
       "    </tr>\n",
       "  </thead>\n",
       "  <tbody>\n",
       "    <tr>\n",
       "      <th>5</th>\n",
       "      <td>6</td>\n",
       "      <td>Shubham</td>\n",
       "      <td>100</td>\n",
       "      <td>85</td>\n",
       "    </tr>\n",
       "    <tr>\n",
       "      <th>7</th>\n",
       "      <td>8</td>\n",
       "      <td>Anshi</td>\n",
       "      <td>100</td>\n",
       "      <td>65</td>\n",
       "    </tr>\n",
       "    <tr>\n",
       "      <th>1</th>\n",
       "      <td>2</td>\n",
       "      <td>Harsh</td>\n",
       "      <td>100</td>\n",
       "      <td>55</td>\n",
       "    </tr>\n",
       "    <tr>\n",
       "      <th>3</th>\n",
       "      <td>4</td>\n",
       "      <td>Keyur</td>\n",
       "      <td>100</td>\n",
       "      <td>55</td>\n",
       "    </tr>\n",
       "    <tr>\n",
       "      <th>...</th>\n",
       "      <td>...</td>\n",
       "      <td>...</td>\n",
       "      <td>...</td>\n",
       "      <td>...</td>\n",
       "    </tr>\n",
       "    <tr>\n",
       "      <th>0</th>\n",
       "      <td>1</td>\n",
       "      <td>Avi</td>\n",
       "      <td>100</td>\n",
       "      <td>50</td>\n",
       "    </tr>\n",
       "    <tr>\n",
       "      <th>2</th>\n",
       "      <td>3</td>\n",
       "      <td>Kevin</td>\n",
       "      <td>100</td>\n",
       "      <td>45</td>\n",
       "    </tr>\n",
       "    <tr>\n",
       "      <th>4</th>\n",
       "      <td>5</td>\n",
       "      <td>Ansh</td>\n",
       "      <td>100</td>\n",
       "      <td>45</td>\n",
       "    </tr>\n",
       "    <tr>\n",
       "      <th>8</th>\n",
       "      <td>9</td>\n",
       "      <td>Paras</td>\n",
       "      <td>100</td>\n",
       "      <td>25</td>\n",
       "    </tr>\n",
       "  </tbody>\n",
       "</table>\n",
       "<p>9 rows × 4 columns</p>\n",
       "</div>"
      ],
      "text/plain": [
       "    Rollno     name  totalmark  obtainmark\n",
       "5        6  Shubham        100          85\n",
       "7        8    Anshi        100          65\n",
       "1        2    Harsh        100          55\n",
       "3        4    Keyur        100          55\n",
       "..     ...      ...        ...         ...\n",
       "0        1      Avi        100          50\n",
       "2        3    Kevin        100          45\n",
       "4        5     Ansh        100          45\n",
       "8        9    Paras        100          25\n",
       "\n",
       "[9 rows x 4 columns]"
      ]
     },
     "execution_count": 33,
     "metadata": {},
     "output_type": "execute_result"
    }
   ],
   "source": [
    "stud.sort_values(['obtainmark'],ascending=0) #ascending"
   ]
  },
  {
   "cell_type": "code",
   "execution_count": 34,
   "id": "6f58c798",
   "metadata": {},
   "outputs": [
    {
     "data": {
      "text/html": [
       "<div>\n",
       "<style scoped>\n",
       "    .dataframe tbody tr th:only-of-type {\n",
       "        vertical-align: middle;\n",
       "    }\n",
       "\n",
       "    .dataframe tbody tr th {\n",
       "        vertical-align: top;\n",
       "    }\n",
       "\n",
       "    .dataframe thead th {\n",
       "        text-align: right;\n",
       "    }\n",
       "</style>\n",
       "<table border=\"1\" class=\"dataframe\">\n",
       "  <thead>\n",
       "    <tr style=\"text-align: right;\">\n",
       "      <th></th>\n",
       "      <th>Rollno</th>\n",
       "      <th>name</th>\n",
       "      <th>totalmark</th>\n",
       "      <th>obtainmark</th>\n",
       "    </tr>\n",
       "  </thead>\n",
       "  <tbody>\n",
       "    <tr>\n",
       "      <th>8</th>\n",
       "      <td>9</td>\n",
       "      <td>Paras</td>\n",
       "      <td>100</td>\n",
       "      <td>25</td>\n",
       "    </tr>\n",
       "    <tr>\n",
       "      <th>2</th>\n",
       "      <td>3</td>\n",
       "      <td>Kevin</td>\n",
       "      <td>100</td>\n",
       "      <td>45</td>\n",
       "    </tr>\n",
       "    <tr>\n",
       "      <th>4</th>\n",
       "      <td>5</td>\n",
       "      <td>Ansh</td>\n",
       "      <td>100</td>\n",
       "      <td>45</td>\n",
       "    </tr>\n",
       "    <tr>\n",
       "      <th>0</th>\n",
       "      <td>1</td>\n",
       "      <td>Avi</td>\n",
       "      <td>100</td>\n",
       "      <td>50</td>\n",
       "    </tr>\n",
       "    <tr>\n",
       "      <th>...</th>\n",
       "      <td>...</td>\n",
       "      <td>...</td>\n",
       "      <td>...</td>\n",
       "      <td>...</td>\n",
       "    </tr>\n",
       "    <tr>\n",
       "      <th>3</th>\n",
       "      <td>4</td>\n",
       "      <td>Keyur</td>\n",
       "      <td>100</td>\n",
       "      <td>55</td>\n",
       "    </tr>\n",
       "    <tr>\n",
       "      <th>6</th>\n",
       "      <td>7</td>\n",
       "      <td>Avinash</td>\n",
       "      <td>100</td>\n",
       "      <td>55</td>\n",
       "    </tr>\n",
       "    <tr>\n",
       "      <th>7</th>\n",
       "      <td>8</td>\n",
       "      <td>Anshi</td>\n",
       "      <td>100</td>\n",
       "      <td>65</td>\n",
       "    </tr>\n",
       "    <tr>\n",
       "      <th>5</th>\n",
       "      <td>6</td>\n",
       "      <td>Shubham</td>\n",
       "      <td>100</td>\n",
       "      <td>85</td>\n",
       "    </tr>\n",
       "  </tbody>\n",
       "</table>\n",
       "<p>9 rows × 4 columns</p>\n",
       "</div>"
      ],
      "text/plain": [
       "    Rollno     name  totalmark  obtainmark\n",
       "8        9    Paras        100          25\n",
       "2        3    Kevin        100          45\n",
       "4        5     Ansh        100          45\n",
       "0        1      Avi        100          50\n",
       "..     ...      ...        ...         ...\n",
       "3        4    Keyur        100          55\n",
       "6        7  Avinash        100          55\n",
       "7        8    Anshi        100          65\n",
       "5        6  Shubham        100          85\n",
       "\n",
       "[9 rows x 4 columns]"
      ]
     },
     "execution_count": 34,
     "metadata": {},
     "output_type": "execute_result"
    }
   ],
   "source": [
    "stud.sort_values(['obtainmark'],ascending=1) "
   ]
  },
  {
   "cell_type": "code",
   "execution_count": 35,
   "id": "30ec7861",
   "metadata": {},
   "outputs": [
    {
     "data": {
      "text/html": [
       "<div>\n",
       "<style scoped>\n",
       "    .dataframe tbody tr th:only-of-type {\n",
       "        vertical-align: middle;\n",
       "    }\n",
       "\n",
       "    .dataframe tbody tr th {\n",
       "        vertical-align: top;\n",
       "    }\n",
       "\n",
       "    .dataframe thead th {\n",
       "        text-align: right;\n",
       "    }\n",
       "</style>\n",
       "<table border=\"1\" class=\"dataframe\">\n",
       "  <thead>\n",
       "    <tr style=\"text-align: right;\">\n",
       "      <th></th>\n",
       "      <th>Rollno</th>\n",
       "      <th>name</th>\n",
       "      <th>totalmark</th>\n",
       "      <th>obtainmark</th>\n",
       "      <th>percentage</th>\n",
       "    </tr>\n",
       "  </thead>\n",
       "  <tbody>\n",
       "    <tr>\n",
       "      <th>0</th>\n",
       "      <td>1</td>\n",
       "      <td>Avi</td>\n",
       "      <td>100</td>\n",
       "      <td>50.0</td>\n",
       "      <td>50.0</td>\n",
       "    </tr>\n",
       "    <tr>\n",
       "      <th>1</th>\n",
       "      <td>2</td>\n",
       "      <td>Harsh</td>\n",
       "      <td>100</td>\n",
       "      <td>55.0</td>\n",
       "      <td>55.0</td>\n",
       "    </tr>\n",
       "    <tr>\n",
       "      <th>2</th>\n",
       "      <td>3</td>\n",
       "      <td>Kevin</td>\n",
       "      <td>100</td>\n",
       "      <td>45.0</td>\n",
       "      <td>45.0</td>\n",
       "    </tr>\n",
       "    <tr>\n",
       "      <th>3</th>\n",
       "      <td>4</td>\n",
       "      <td>Keyur</td>\n",
       "      <td>100</td>\n",
       "      <td>55.0</td>\n",
       "      <td>55.0</td>\n",
       "    </tr>\n",
       "    <tr>\n",
       "      <th>4</th>\n",
       "      <td>5</td>\n",
       "      <td>Ansh</td>\n",
       "      <td>100</td>\n",
       "      <td>45.0</td>\n",
       "      <td>45.0</td>\n",
       "    </tr>\n",
       "  </tbody>\n",
       "</table>\n",
       "</div>"
      ],
      "text/plain": [
       "   Rollno   name  totalmark  obtainmark  percentage\n",
       "0       1    Avi        100        50.0        50.0\n",
       "1       2  Harsh        100        55.0        55.0\n",
       "2       3  Kevin        100        45.0        45.0\n",
       "3       4  Keyur        100        55.0        55.0\n",
       "4       5   Ansh        100        45.0        45.0"
      ]
     },
     "execution_count": 35,
     "metadata": {},
     "output_type": "execute_result"
    }
   ],
   "source": [
    "stmark['percentage']=(stmark['obtainmark']/stmark['totalmark'])*100\n",
    "stmark.head(5)"
   ]
  },
  {
   "cell_type": "code",
   "execution_count": null,
   "id": "1b439f3d",
   "metadata": {},
   "outputs": [],
   "source": []
  }
 ],
 "metadata": {
  "kernelspec": {
   "display_name": "Python 3 (ipykernel)",
   "language": "python",
   "name": "python3"
  },
  "language_info": {
   "codemirror_mode": {
    "name": "ipython",
    "version": 3
   },
   "file_extension": ".py",
   "mimetype": "text/x-python",
   "name": "python",
   "nbconvert_exporter": "python",
   "pygments_lexer": "ipython3",
   "version": "3.9.12"
  }
 },
 "nbformat": 4,
 "nbformat_minor": 5
}
