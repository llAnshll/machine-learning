{
 "cells": [
  {
   "cell_type": "code",
   "execution_count": 1,
   "id": "1d32981e",
   "metadata": {},
   "outputs": [],
   "source": [
    "# Numpy :- import numpy liabray \n",
    "import numpy as np"
   ]
  },
  {
   "cell_type": "code",
   "execution_count": 4,
   "id": "dc88e89e",
   "metadata": {},
   "outputs": [
    {
     "name": "stdout",
     "output_type": "stream",
     "text": [
      " one dimensional array :\n",
      "[1 2 3 4 5 6]\n",
      " two dimensional array :\n",
      "[[1 2 3]\n",
      " [4 5 6]]\n"
     ]
    }
   ],
   "source": [
    "# array :-\n",
    "# one dimensional\n",
    "b=np.array([1,2,3,4,5,6])\n",
    "# two dimensional\n",
    "a=np.array([[1,2,3],[4,5,6]])\n",
    "print(\" one dimensional array :\")\n",
    "print(b)\n",
    "print(\" two dimensional array :\")\n",
    "print(a)\n"
   ]
  },
  {
   "cell_type": "code",
   "execution_count": 5,
   "id": "446663a2",
   "metadata": {},
   "outputs": [
    {
     "name": "stdout",
     "output_type": "stream",
     "text": [
      "shape of a (2, 3)\n"
     ]
    }
   ],
   "source": [
    "# format :-the standard binary file format\n",
    "# shape :-the number of elements in each dimension\n",
    "a=np.array([[1,2,3],[4,5,6]])\n",
    "print(\"shape of a {}\".format(a.shape))\n"
   ]
  },
  {
   "cell_type": "code",
   "execution_count": 6,
   "id": "33211c8e",
   "metadata": {},
   "outputs": [
    {
     "name": "stdout",
     "output_type": "stream",
     "text": [
      "ndim 2\n"
     ]
    }
   ],
   "source": [
    "# ndim :-represents the number of dimensions (axes) of the ndarray\n",
    "a=np.array([[1,2,3],[4,5,6]])\n",
    "print(\"ndim {}\".format(a.ndim))\n"
   ]
  },
  {
   "cell_type": "code",
   "execution_count": 7,
   "id": "dad133f2",
   "metadata": {},
   "outputs": [
    {
     "name": "stdout",
     "output_type": "stream",
     "text": [
      "size 6\n"
     ]
    }
   ],
   "source": [
    "# size :-calculate the total elements or values  in the given array\n",
    "a=np.array([[1,2,3],[4,5,6]])\n",
    "print(\"size {}\".format(a.size))\n"
   ]
  },
  {
   "cell_type": "code",
   "execution_count": 8,
   "id": "f54b199a",
   "metadata": {},
   "outputs": [
    {
     "name": "stdout",
     "output_type": "stream",
     "text": [
      "dtype int64\n"
     ]
    }
   ],
   "source": [
    "# dtype :-describes the bytes in the fixed-size block of memory\n",
    "a=np.array([[1,2,3],[4,5,6]])\n",
    "print(\"dtype {}\".format(a.dtype))"
   ]
  },
  {
   "cell_type": "code",
   "execution_count": 9,
   "id": "4b4638b2",
   "metadata": {},
   "outputs": [
    {
     "name": "stdout",
     "output_type": "stream",
     "text": [
      "itemsize 8\n"
     ]
    }
   ],
   "source": [
    "# itemsize :-returns the size (in bytes) of each element of a NumPy array\n",
    "a=np.array([[1,2,3],[4,5,6]])\n",
    "print(\"itemsize {}\".format(a.itemsize))\n"
   ]
  },
  {
   "cell_type": "code",
   "execution_count": 10,
   "id": "e9ac2fc8",
   "metadata": {},
   "outputs": [
    {
     "name": "stdout",
     "output_type": "stream",
     "text": [
      "data <memory at 0x7f2fdc06d5f0>\n"
     ]
    }
   ],
   "source": [
    "# data :-\n",
    "a=np.array([[1,2,3],[4,5,6]])\n",
    "print(\"data {}\".format(a.data))\n"
   ]
  },
  {
   "cell_type": "code",
   "execution_count": 11,
   "id": "0cd1a06a",
   "metadata": {},
   "outputs": [
    {
     "name": "stdout",
     "output_type": "stream",
     "text": [
      "21\n"
     ]
    }
   ],
   "source": [
    "# sum :-returns the sum of array elements over the specified axis\n",
    "a=np.array([[1,2,3],[4,5,6]])\n",
    "print(a.sum())\n"
   ]
  },
  {
   "cell_type": "code",
   "execution_count": 12,
   "id": "49c5bc57",
   "metadata": {},
   "outputs": [
    {
     "name": "stdout",
     "output_type": "stream",
     "text": [
      "multiplication :\n",
      "[[16 19]\n",
      " [26 31]]\n"
     ]
    }
   ],
   "source": [
    "# multiplication :-multiplication of two array\n",
    "A = [[1, 2], [2, 3]]\n",
    "B = [[4, 5], [6, 7]]\n",
    "mul=np.dot(A,B)\n",
    "print(\"multiplication :\")\n",
    "print(mul)\n"
   ]
  },
  {
   "cell_type": "code",
   "execution_count": 13,
   "id": "a9f5ceb3",
   "metadata": {},
   "outputs": [
    {
     "name": "stdout",
     "output_type": "stream",
     "text": [
      "addition :\n",
      "[[ 5  7]\n",
      " [ 8 10]]\n"
     ]
    }
   ],
   "source": [
    "# addition :-performs element-wise addition on NumPy arrays\n",
    "A = [[1, 2], [2, 3]]\n",
    "B = [[4, 5], [6, 7]]\n",
    "ad=np.add(A,B)\n",
    "print(\"addition :\")\n",
    "print(ad)\n"
   ]
  },
  {
   "cell_type": "code",
   "execution_count": 14,
   "id": "da2c407c",
   "metadata": {},
   "outputs": [
    {
     "name": "stdout",
     "output_type": "stream",
     "text": [
      "[[1 2 3]\n",
      " [4 5 6]]\n"
     ]
    }
   ],
   "source": [
    "# reshape:-changing the shape of an array\n",
    "a=np.array([1,2,3,4,5,6])\n",
    "re=a.reshape(2,3)\n",
    "print(re)\n"
   ]
  },
  {
   "cell_type": "code",
   "execution_count": 15,
   "id": "2ddd98ac",
   "metadata": {},
   "outputs": [
    {
     "name": "stdout",
     "output_type": "stream",
     "text": [
      "maximum is  6\n"
     ]
    }
   ],
   "source": [
    "# maximum:-find the element-wise maximum of array elements\n",
    "a=np.array([1,2,3,4,5,6])\n",
    "print(\"maximum is \",a.max())\n"
   ]
  },
  {
   "cell_type": "code",
   "execution_count": 16,
   "id": "2915a16b",
   "metadata": {},
   "outputs": [
    {
     "name": "stdout",
     "output_type": "stream",
     "text": [
      "maximum is  [3 6]\n"
     ]
    }
   ],
   "source": [
    "# maximum along the axis\n",
    "re=np.array([[1,2,3],[4,5,6]])\n",
    "print(\"maximum is \",re.max(axis=1))\n"
   ]
  },
  {
   "cell_type": "code",
   "execution_count": 17,
   "id": "0ff51cfb",
   "metadata": {},
   "outputs": [
    {
     "name": "stdout",
     "output_type": "stream",
     "text": [
      "minimum is  1\n"
     ]
    }
   ],
   "source": [
    "# minimum :-find the element-wise minimum of array elements\n",
    "a=np.array([1,2,3,4,5,6])\n",
    "print(\"minimum is \",a.min())\n"
   ]
  },
  {
   "cell_type": "code",
   "execution_count": 18,
   "id": "c354a0c9",
   "metadata": {},
   "outputs": [
    {
     "name": "stdout",
     "output_type": "stream",
     "text": [
      "minimum is  [1 2 3]\n"
     ]
    }
   ],
   "source": [
    "# minimum along the axis\n",
    "re=np.array([[1,2,3],[4,5,6]])\n",
    "print(\"minimum is \",re.min(axis=0))\n"
   ]
  },
  {
   "cell_type": "code",
   "execution_count": 19,
   "id": "28134c73",
   "metadata": {},
   "outputs": [
    {
     "name": "stdout",
     "output_type": "stream",
     "text": [
      "[[1. 2. 3.]\n",
      " [4. 5. 6.]]\n"
     ]
    }
   ],
   "source": [
    "# square root:-calculate the positive square root of a number or the elements of an array\n",
    "re=np.array([[1,4,9],[16,25,36]])\n",
    "print(np.sqrt(re))\n"
   ]
  },
  {
   "cell_type": "code",
   "execution_count": 20,
   "id": "ef4aac93",
   "metadata": {},
   "outputs": [
    {
     "name": "stdout",
     "output_type": "stream",
     "text": [
      "standard deviation  12.212243401148248\n"
     ]
    }
   ],
   "source": [
    "# standard deviation :-calculates the standard deviation of given data along a specified axis\n",
    "re=np.array([[1,4,9],[16,25,36]])\n",
    "print(\"standard deviation \",np.std(re))\n"
   ]
  },
  {
   "cell_type": "code",
   "execution_count": 22,
   "id": "3f53c970",
   "metadata": {},
   "outputs": [
    {
     "name": "stdout",
     "output_type": "stream",
     "text": [
      "vertical :\n",
      "[[1 2]\n",
      " [4 5]\n",
      " [8 7]\n",
      " [5 4]]\n"
     ]
    }
   ],
   "source": [
    "# merging :-merge two arrays\n",
    "# vstack :-Stack arrays in sequence vertically (row wise)\n",
    "a=np.array([[1,2],[4,5]])\n",
    "b=np.array([[8,7],[5,4]])\n",
    "v=np.vstack((a,b))\n",
    "print(\"vertical :\")\n",
    "print(v)"
   ]
  },
  {
   "cell_type": "code",
   "execution_count": 23,
   "id": "992b4c58",
   "metadata": {},
   "outputs": [
    {
     "name": "stdout",
     "output_type": "stream",
     "text": [
      "horizontal :\n",
      "[[1 2 8 7]\n",
      " [4 5 5 4]]\n"
     ]
    }
   ],
   "source": [
    "# horizontal :-combines a sequence of arrays along their horizontal axis\n",
    "a=np.array([[1,2],[4,5]])\n",
    "b=np.array([[8,7],[5,4]])\n",
    "h=np.hstack((a,b))\n",
    "print(\"horizontal :\")\n",
    "print(h)\n"
   ]
  },
  {
   "cell_type": "code",
   "execution_count": 25,
   "id": "e87c71bd",
   "metadata": {},
   "outputs": [
    {
     "name": "stdout",
     "output_type": "stream",
     "text": [
      "[ 0.  2.  4.  6.  8. 10. 12. 14. 16. 18.]\n",
      "data type:  float64\n"
     ]
    }
   ],
   "source": [
    "# arange :-produces an array of sequential numbers within a given interval\n",
    "\n",
    "a=np.arange(0,20,2,float)\n",
    "print(a)\n",
    "print(\"data type: \",a.dtype)\n",
    "\n"
   ]
  },
  {
   "cell_type": "code",
   "execution_count": 26,
   "id": "b22d4001",
   "metadata": {},
   "outputs": [
    {
     "name": "stdout",
     "output_type": "stream",
     "text": [
      "[ 0.  2.  4.  6.  8. 10. 12. 14. 16. 18. 20.]\n",
      "data type:  float64\n"
     ]
    }
   ],
   "source": [
    "# linspace :- allows you to create evenly spaced arrays with a specified number of elements\n",
    "a=np.linspace(0,20,11)\n",
    "print(a)\n",
    "print(\"data type: \",a.dtype)\n"
   ]
  },
  {
   "cell_type": "code",
   "execution_count": 27,
   "id": "c04fe8d2",
   "metadata": {},
   "outputs": [
    {
     "name": "stdout",
     "output_type": "stream",
     "text": [
      "[[1 4]\n",
      " [2 5]\n",
      " [8 5]\n",
      " [7 4]]\n"
     ]
    }
   ],
   "source": [
    "# transpose :-moving the rows data to the column and columns data to the rows\n",
    "a=np.array([[1,2],[4,5]])\n",
    "b=np.array([[8,7],[5,4]])\n",
    "h=np.hstack((a,b))\n",
    "ht=h.T\n",
    "print(ht)\n"
   ]
  },
  {
   "cell_type": "code",
   "execution_count": 28,
   "id": "56bb70d5",
   "metadata": {},
   "outputs": [
    {
     "name": "stdout",
     "output_type": "stream",
     "text": [
      "element : 1\n",
      "element : 2\n",
      "element : 8\n",
      "element : 7\n",
      "element : 4\n",
      "element : 5\n",
      "element : 5\n",
      "element : 4\n"
     ]
    }
   ],
   "source": [
    "# nditer :-provides many flexible ways to visit all the elements of one or more arrays in a systematic fashion\n",
    "for i in np.nditer(ht):\n",
    "    print(\"element :\",i)\n"
   ]
  },
  {
   "cell_type": "code",
   "execution_count": 29,
   "id": "c3ab593f",
   "metadata": {},
   "outputs": [
    {
     "name": "stdout",
     "output_type": "stream",
     "text": [
      "[array([[1, 2],\n",
      "       [4, 5]]), array([[8, 7],\n",
      "       [5, 4]])]\n"
     ]
    }
   ],
   "source": [
    "# hsplit :-split an array into multiple sub-arrays horizontally (column-wise)\n",
    "a=np.array([[1,2],[4,5]])\n",
    "b=np.array([[8,7],[5,4]])\n",
    "h=np.hstack((a,b))\n",
    "h1=np.hsplit(h,2)\n",
    "print(h1)\n"
   ]
  },
  {
   "cell_type": "code",
   "execution_count": 30,
   "id": "9b699702",
   "metadata": {},
   "outputs": [
    {
     "name": "stdout",
     "output_type": "stream",
     "text": [
      "[array([[1, 2, 8, 7]]), array([[4, 5, 5, 4]])]\n"
     ]
    }
   ],
   "source": [
    "# vsplit :-split an array into multiple sub-arrays vertically (row-wise)\n",
    "a=np.array([[1,2],[4,5]])\n",
    "b=np.array([[8,7],[5,4]])\n",
    "h=np.hstack((a,b))\n",
    "h1=np.vsplit(h,2)\n",
    "print(h1)\n"
   ]
  },
  {
   "cell_type": "code",
   "execution_count": null,
   "id": "e3ce7ebb",
   "metadata": {},
   "outputs": [],
   "source": []
  }
 ],
 "metadata": {
  "kernelspec": {
   "display_name": "Python 3 (ipykernel)",
   "language": "python",
   "name": "python3"
  },
  "language_info": {
   "codemirror_mode": {
    "name": "ipython",
    "version": 3
   },
   "file_extension": ".py",
   "mimetype": "text/x-python",
   "name": "python",
   "nbconvert_exporter": "python",
   "pygments_lexer": "ipython3",
   "version": "3.9.12"
  }
 },
 "nbformat": 4,
 "nbformat_minor": 5
}
