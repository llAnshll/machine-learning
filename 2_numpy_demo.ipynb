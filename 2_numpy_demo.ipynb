{
 "cells": [
  {
   "cell_type": "code",
   "execution_count": 1,
   "id": "d7012403",
   "metadata": {},
   "outputs": [],
   "source": [
    "# Numpy :- import numpy liabray \n",
    "import numpy as np"
   ]
  },
  {
   "cell_type": "code",
   "execution_count": 4,
   "id": "95daf22f",
   "metadata": {},
   "outputs": [
    {
     "name": "stdout",
     "output_type": "stream",
     "text": [
      " one dimensional array :\n",
      "[1 2 3 4 5 6]\n",
      " two dimensional array :\n",
      "[[1 2 3]\n",
      " [4 5 6]]\n"
     ]
    }
   ],
   "source": [
    "# array :-\n",
    "# one dimensional\n",
    "b=np.array([1,2,3,4,5,6])\n",
    "# two dimensional\n",
    "a=np.array([[1,2,3],[4,5,6]])\n",
    "print(\" one dimensional array :\")\n",
    "print(b)\n",
    "print(\" two dimensional array :\")\n",
    "print(a)\n"
   ]
  },
  {
   "cell_type": "code",
   "execution_count": 5,
   "id": "39510a1e",
   "metadata": {},
   "outputs": [
    {
     "name": "stdout",
     "output_type": "stream",
     "text": [
      "shape of a (2, 3)\n"
     ]
    }
   ],
   "source": [
    "# format :-the standard binary file format\n",
    "# shape :-the number of elements in each dimension\n",
    "a=np.array([[1,2,3],[4,5,6]])\n",
    "print(\"shape of a {}\".format(a.shape))\n"
   ]
  },
  {
   "cell_type": "code",
   "execution_count": 6,
   "id": "8c59ae36",
   "metadata": {},
   "outputs": [
    {
     "name": "stdout",
     "output_type": "stream",
     "text": [
      "ndim 2\n"
     ]
    }
   ],
   "source": [
    "# ndim :-represents the number of dimensions (axes) of the ndarray\n",
    "a=np.array([[1,2,3],[4,5,6]])\n",
    "print(\"ndim {}\".format(a.ndim))\n"
   ]
  },
  {
   "cell_type": "code",
   "execution_count": 7,
   "id": "902c3f2d",
   "metadata": {},
   "outputs": [
    {
     "name": "stdout",
     "output_type": "stream",
     "text": [
      "size 6\n"
     ]
    }
   ],
   "source": [
    "# size :-calculate the total elements or values  in the given array\n",
    "a=np.array([[1,2,3],[4,5,6]])\n",
    "print(\"size {}\".format(a.size))\n"
   ]
  },
  {
   "cell_type": "code",
   "execution_count": 8,
   "id": "c9b18870",
   "metadata": {},
   "outputs": [
    {
     "name": "stdout",
     "output_type": "stream",
     "text": [
      "dtype int64\n"
     ]
    }
   ],
   "source": [
    "# dtype :-describes the bytes in the fixed-size block of memory\n",
    "a=np.array([[1,2,3],[4,5,6]])\n",
    "print(\"dtype {}\".format(a.dtype))"
   ]
  },
  {
   "cell_type": "code",
   "execution_count": 9,
   "id": "a81610e7",
   "metadata": {},
   "outputs": [
    {
     "name": "stdout",
     "output_type": "stream",
     "text": [
      "itemsize 8\n"
     ]
    }
   ],
   "source": [
    "# itemsize :-returns the size (in bytes) of each element of a NumPy array\n",
    "a=np.array([[1,2,3],[4,5,6]])\n",
    "print(\"itemsize {}\".format(a.itemsize))\n"
   ]
  },
  {
   "cell_type": "code",
   "execution_count": 10,
   "id": "9fe17242",
   "metadata": {},
   "outputs": [
    {
     "name": "stdout",
     "output_type": "stream",
     "text": [
      "data <memory at 0x7f2fdc06d5f0>\n"
     ]
    }
   ],
   "source": [
    "# data :-\n",
    "a=np.array([[1,2,3],[4,5,6]])\n",
    "print(\"data {}\".format(a.data))\n"
   ]
  },
  {
   "cell_type": "code",
   "execution_count": 11,
   "id": "8be73d19",
   "metadata": {},
   "outputs": [
    {
     "name": "stdout",
     "output_type": "stream",
     "text": [
      "21\n"
     ]
    }
   ],
   "source": [
    "# sum :-returns the sum of array elements over the specified axis\n",
    "a=np.array([[1,2,3],[4,5,6]])\n",
    "print(a.sum())\n"
   ]
  },
  {
   "cell_type": "code",
   "execution_count": 12,
   "id": "8ac29479",
   "metadata": {},
   "outputs": [
    {
     "name": "stdout",
     "output_type": "stream",
     "text": [
      "multiplication :\n",
      "[[16 19]\n",
      " [26 31]]\n"
     ]
    }
   ],
   "source": [
    "# multiplication :-multiplication of two array\n",
    "A = [[1, 2], [2, 3]]\n",
    "B = [[4, 5], [6, 7]]\n",
    "mul=np.dot(A,B)\n",
    "print(\"multiplication :\")\n",
    "print(mul)\n"
   ]
  },
  {
   "cell_type": "code",
   "execution_count": 13,
   "id": "1dbde241",
   "metadata": {},
   "outputs": [
    {
     "name": "stdout",
     "output_type": "stream",
     "text": [
      "addition :\n",
      "[[ 5  7]\n",
      " [ 8 10]]\n"
     ]
    }
   ],
   "source": [
    "# addition :-performs element-wise addition on NumPy arrays\n",
    "A = [[1, 2], [2, 3]]\n",
    "B = [[4, 5], [6, 7]]\n",
    "ad=np.add(A,B)\n",
    "print(\"addition :\")\n",
    "print(ad)\n"
   ]
  },
  {
   "cell_type": "code",
   "execution_count": 14,
   "id": "18ca6254",
   "metadata": {},
   "outputs": [
    {
     "name": "stdout",
     "output_type": "stream",
     "text": [
      "[[1 2 3]\n",
      " [4 5 6]]\n"
     ]
    }
   ],
   "source": [
    "# reshape:-changing the shape of an array\n",
    "a=np.array([1,2,3,4,5,6])\n",
    "re=a.reshape(2,3)\n",
    "print(re)\n"
   ]
  },
  {
   "cell_type": "code",
   "execution_count": 15,
   "id": "33fecdce",
   "metadata": {},
   "outputs": [
    {
     "name": "stdout",
     "output_type": "stream",
     "text": [
      "maximum is  6\n"
     ]
    }
   ],
   "source": [
    "# maximum:-find the element-wise maximum of array elements\n",
    "a=np.array([1,2,3,4,5,6])\n",
    "print(\"maximum is \",a.max())\n"
   ]
  },
  {
   "cell_type": "code",
   "execution_count": 16,
   "id": "5b01be34",
   "metadata": {},
   "outputs": [
    {
     "name": "stdout",
     "output_type": "stream",
     "text": [
      "maximum is  [3 6]\n"
     ]
    }
   ],
   "source": [
    "# maximum along the axis\n",
    "re=np.array([[1,2,3],[4,5,6]])\n",
    "print(\"maximum is \",re.max(axis=1))\n"
   ]
  },
  {
   "cell_type": "code",
   "execution_count": 17,
   "id": "a86e9b6d",
   "metadata": {},
   "outputs": [
    {
     "name": "stdout",
     "output_type": "stream",
     "text": [
      "minimum is  1\n"
     ]
    }
   ],
   "source": [
    "# minimum :-find the element-wise minimum of array elements\n",
    "a=np.array([1,2,3,4,5,6])\n",
    "print(\"minimum is \",a.min())\n"
   ]
  },
  {
   "cell_type": "code",
   "execution_count": 18,
   "id": "28d65a2b",
   "metadata": {},
   "outputs": [
    {
     "name": "stdout",
     "output_type": "stream",
     "text": [
      "minimum is  [1 2 3]\n"
     ]
    }
   ],
   "source": [
    "# minimum along the axis\n",
    "re=np.array([[1,2,3],[4,5,6]])\n",
    "print(\"minimum is \",re.min(axis=0))\n"
   ]
  },
  {
   "cell_type": "code",
   "execution_count": 19,
   "id": "28fa9c7b",
   "metadata": {},
   "outputs": [
    {
     "name": "stdout",
     "output_type": "stream",
     "text": [
      "[[1. 2. 3.]\n",
      " [4. 5. 6.]]\n"
     ]
    }
   ],
   "source": [
    "# square root:-calculate the positive square root of a number or the elements of an array\n",
    "re=np.array([[1,4,9],[16,25,36]])\n",
    "print(np.sqrt(re))\n"
   ]
  },
  {
   "cell_type": "code",
   "execution_count": 20,
   "id": "42007b09",
   "metadata": {},
   "outputs": [
    {
     "name": "stdout",
     "output_type": "stream",
     "text": [
      "standard deviation  12.212243401148248\n"
     ]
    }
   ],
   "source": [
    "# standard deviation :-calculates the standard deviation of given data along a specified axis\n",
    "re=np.array([[1,4,9],[16,25,36]])\n",
    "print(\"standard deviation \",np.std(re))\n"
   ]
  },
  {
   "cell_type": "code",
   "execution_count": null,
   "id": "b80a0b66",
   "metadata": {},
   "outputs": [],
   "source": []
  }
 ],
 "metadata": {
  "kernelspec": {
   "display_name": "Python 3 (ipykernel)",
   "language": "python",
   "name": "python3"
  },
  "language_info": {
   "codemirror_mode": {
    "name": "ipython",
    "version": 3
   },
   "file_extension": ".py",
   "mimetype": "text/x-python",
   "name": "python",
   "nbconvert_exporter": "python",
   "pygments_lexer": "ipython3",
   "version": "3.9.12"
  }
 },
 "nbformat": 4,
 "nbformat_minor": 5
}
